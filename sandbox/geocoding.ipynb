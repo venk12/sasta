{
 "cells": [
  {
   "cell_type": "code",
   "execution_count": 3,
   "metadata": {},
   "outputs": [
    {
     "name": "stdout",
     "output_type": "stream",
     "text": [
      "Latitude: 52.21775445, Longitude: 6.892787\n"
     ]
    }
   ],
   "source": [
    "from geopy.geocoders import Nominatim\n",
    "\n",
    "def get_lat_long(postal_code):\n",
    "    geolocator = Nominatim(user_agent=\"geoapi\")\n",
    "    location = geolocator.geocode(postal_code)\n",
    "    \n",
    "    if location:\n",
    "        return (location.latitude, location.longitude)\n",
    "    else:\n",
    "        return None\n",
    "\n",
    "postal_code = \"7511 AE\"  # Example postal code\n",
    "coordinates = get_lat_long(postal_code)\n",
    "\n",
    "if coordinates:\n",
    "    print(f\"Latitude: {coordinates[0]}, Longitude: {coordinates[1]}\")\n",
    "else:\n",
    "    print(\"Location not found.\")"
   ]
  }
 ],
 "metadata": {
  "kernelspec": {
   "display_name": "venv",
   "language": "python",
   "name": "python3"
  },
  "language_info": {
   "codemirror_mode": {
    "name": "ipython",
    "version": 3
   },
   "file_extension": ".py",
   "mimetype": "text/x-python",
   "name": "python",
   "nbconvert_exporter": "python",
   "pygments_lexer": "ipython3",
   "version": "3.10.9"
  }
 },
 "nbformat": 4,
 "nbformat_minor": 2
}
